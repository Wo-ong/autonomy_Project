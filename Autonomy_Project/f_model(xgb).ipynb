{
  "nbformat": 4,
  "nbformat_minor": 0,
  "metadata": {
    "colab": {
      "name": "f_model(xgb).ipynb",
      "provenance": [],
      "collapsed_sections": [],
      "authorship_tag": "ABX9TyNZ6dPPiitKE2zk4QDR4Bxj",
      "include_colab_link": true
    },
    "kernelspec": {
      "name": "python3",
      "display_name": "Python 3"
    },
    "language_info": {
      "name": "python"
    }
  },
  "cells": [
    {
      "cell_type": "markdown",
      "metadata": {
        "id": "view-in-github",
        "colab_type": "text"
      },
      "source": [
        "<a href=\"https://colab.research.google.com/github/Wo-ong/autonomy_Project/blob/master/f_model(xgb).ipynb\" target=\"_parent\"><img src=\"https://colab.research.google.com/assets/colab-badge.svg\" alt=\"Open In Colab\"/></a>"
      ]
    },
    {
      "cell_type": "markdown",
      "metadata": {
        "id": "7VBMgpgQf2El"
      },
      "source": [
        "##필요한 라이브러리 설치 및 DATA불러오기\n",
        "\n"
      ]
    },
    {
      "cell_type": "code",
      "metadata": {
        "id": "REUhplwCfx38"
      },
      "source": [
        "!pip install fancyimpute\n",
        "!pip install mglearn"
      ],
      "execution_count": null,
      "outputs": []
    },
    {
      "cell_type": "code",
      "metadata": {
        "id": "I-C17dltgfai"
      },
      "source": [
        "import numpy as np\n",
        "import pandas as pd\n",
        "import xgboost as xgb\n",
        "from fancyimpute import IterativeImputer\n",
        "from sklearn.experimental import  enable_iterative_imputer\n",
        "from sklearn.impute import IterativeImputer\n",
        "from sklearn.model_selection import RandomizedSearchCV\n",
        "from sklearn.metrics import mean_absolute_error\n",
        "from sklearn.metrics import mean_squared_error\n",
        "from sklearn.svm import LinearSVC\n",
        "from sklearn.model_selection import GridSearchCV\n",
        "from xgboost.sklearn import XGBClassifier\n",
        "from sklearn import metrics\n",
        "from sklearn.metrics import confusion_matrix, plot_confusion_matrix\n",
        "import matplotlib.pyplot as plt\n",
        "from sklearn.model_selection import train_test_split"
      ],
      "execution_count": null,
      "outputs": []
    },
    {
      "cell_type": "code",
      "metadata": {
        "id": "9McKp_Dkgpb2"
      },
      "source": [
        "df = pd.read_csv('DATA_P.csv', encoding='utf-8')"
      ],
      "execution_count": null,
      "outputs": []
    },
    {
      "cell_type": "markdown",
      "metadata": {
        "id": "1tmKLtFThO-z"
      },
      "source": [
        "##변수전처리\n"
      ]
    },
    {
      "cell_type": "markdown",
      "metadata": {
        "id": "hqGFeatlhXZy"
      },
      "source": [
        "TARGET변수 분리"
      ]
    },
    {
      "cell_type": "code",
      "metadata": {
        "colab": {
          "base_uri": "https://localhost:8080/"
        },
        "id": "xkmFFB0AhMFc",
        "outputId": "72536705-0d77-4773-f74f-746f12bbfa5f"
      },
      "source": [
        "for i in range(len(df)):\n",
        "  if df['PRES_NOTE'][i][:3] == '본운동':\n",
        "    df['PRES_NOTE'][i] = ' / '+ df['PRES_NOTE'][i]\n",
        "\n",
        "df['준비운동'] = df.PRES_NOTE.str.split(' / ').str[0]\n",
        "df['본운동'] = df.PRES_NOTE.str.split(' / ').str[1]\n",
        "df['마무리운동'] = df.PRES_NOTE.str.split(' / ').str[2]\n",
        "\n",
        "df_1 = df['준비운동']\n",
        "df_2 = df['본운동']\n",
        "df_3 = df['마무리운동']"
      ],
      "execution_count": null,
      "outputs": [
        {
          "output_type": "stream",
          "name": "stderr",
          "text": [
            "/usr/local/lib/python3.7/dist-packages/ipykernel_launcher.py:3: SettingWithCopyWarning: \n",
            "A value is trying to be set on a copy of a slice from a DataFrame\n",
            "\n",
            "See the caveats in the documentation: https://pandas.pydata.org/pandas-docs/stable/user_guide/indexing.html#returning-a-view-versus-a-copy\n",
            "  This is separate from the ipykernel package so we can avoid doing imports until\n"
          ]
        }
      ]
    },
    {
      "cell_type": "markdown",
      "metadata": {
        "id": "KTOtZY3RiGf5"
      },
      "source": [
        "혈압, 체지방률 변수 범주화"
      ]
    },
    {
      "cell_type": "code",
      "metadata": {
        "id": "gQLVdjdxiDz_"
      },
      "source": [
        "df['BP']=\"\"\n",
        "\n",
        "\n",
        "for i in range(len(df)):\n",
        "  if df['ITEM_F006'][i] > 150 :\n",
        "    df['BP'][i] = '3'\n",
        "  elif df['ITEM_F005'][i] < 60 :\n",
        "    df['BP'][i] = '1'\n",
        "  else :\n",
        "    df['BP'][i] = '2'\n",
        "\n",
        "\n",
        "df = df.astype({'BP':'float64'})\n",
        "\n",
        "for i in range(len(df)):\n",
        "  if df['TEST_SEX'][i] =='M':\n",
        "    if df['TEST_AGE'][i] < 30 :\n",
        "      if df['ITEM_F003'][i] <= 14 :\n",
        "        df['ITEM_F003'][i] = '1'\n",
        "      elif df['ITEM_F003'][i] <= 22 :\n",
        "        df['ITEM_F003'][i] = '2'\n",
        "      elif df['ITEM_F003'][i] <= 27 :\n",
        "        df['ITEM_F003'][i] = '3'\n",
        "      elif df['ITEM_F003'][i] <= 37 :\n",
        "        df['ITEM_F003'][i] = '4'\n",
        "      elif df['ITEM_F003'][i] > 37 :\n",
        "        df['ITEM_F003'][i] = '5'\n",
        "    else :\n",
        "      if df['ITEM_F003'][i] <= 17 :\n",
        "        df['ITEM_F003'][i] = '1'\n",
        "      elif df['ITEM_F003'][i] <= 25 :\n",
        "        df['ITEM_F003'][i] = '2'\n",
        "      elif df['ITEM_F003'][i] <= 30 :\n",
        "        df['ITEM_F003'][i] = '3'\n",
        "      elif df['ITEM_F003'][i] <= 40 :\n",
        "        df['ITEM_F003'][i] = '4'\n",
        "      elif df['ITEM_F003'][i] > 40 :\n",
        "        df['ITEM_F003'][i] = '5'\n",
        "  else:\n",
        "    if df['TEST_AGE'][i] < 30 :\n",
        "      if df['ITEM_F003'][i] <= 17 :\n",
        "        df['ITEM_F003'][i] = '1'\n",
        "      elif df['ITEM_F003'][i] <= 26 :\n",
        "        df['ITEM_F003'][i] = '2'\n",
        "      elif df['ITEM_F003'][i] <= 32 :\n",
        "        df['ITEM_F003'][i] = '3'\n",
        "      elif df['ITEM_F003'][i] <= 42 :\n",
        "        df['ITEM_F003'][i] = '4'\n",
        "      elif df['ITEM_F003'][i] > 42  :\n",
        "        df['ITEM_F003'][i] = '5'\n",
        "    else :\n",
        "      if df['ITEM_F003'][i] <= 20 :\n",
        "        df['ITEM_F003'][i] = '1'\n",
        "      elif df['ITEM_F003'][i] <= 29 :\n",
        "        df['ITEM_F003'][i] = '2'\n",
        "      elif df['ITEM_F003'][i] <= 35 :\n",
        "        df['ITEM_F003'][i] = '3'\n",
        "      elif df['ITEM_F003'][i] <= 45 :\n",
        "        df['ITEM_F003'][i] = '4'\n",
        "      elif df['ITEM_F003'][i] > 45 :\n",
        "        df['ITEM_F003'][i] = '5'\n",
        "\n",
        "df = pd.get_dummies(df, columns = ['TEST_SEX'])\n",
        "\n",
        "df_10 = df[(df['TEST_AGE'] < 20)]\n",
        "df_20 = df[(df['TEST_AGE'] >= 20) & (df['TEST_AGE']<60)]\n",
        "df_60 = df[(df['TEST_AGE'] >= 60)]"
      ],
      "execution_count": null,
      "outputs": []
    },
    {
      "cell_type": "code",
      "metadata": {
        "id": "xjfXIiBpsNbX"
      },
      "source": [
        "df"
      ],
      "execution_count": null,
      "outputs": []
    },
    {
      "cell_type": "markdown",
      "metadata": {
        "id": "hMW3dKgtiiZR"
      },
      "source": [
        "성별변수 더미처리"
      ]
    },
    {
      "cell_type": "code",
      "metadata": {
        "id": "mC6lGlG2iRSe"
      },
      "source": [
        "df = pd.get_dummies(df, columns = ['TEST_SEX'])"
      ],
      "execution_count": null,
      "outputs": []
    },
    {
      "cell_type": "markdown",
      "metadata": {
        "id": "SQFpTqr9isj5"
      },
      "source": [
        "나잇대별 변수 분할 및 불필요변수 제거"
      ]
    },
    {
      "cell_type": "code",
      "metadata": {
        "id": "yHexaW8ViRY6"
      },
      "source": [
        "df_10 = df[(df['TEST_AGE'] < 20)]\n",
        "df_20 = df[(df['TEST_AGE'] >= 20) & (df['TEST_AGE']<60)]\n",
        "df_60 = df[(df['TEST_AGE'] >= 60)]"
      ],
      "execution_count": null,
      "outputs": []
    },
    {
      "cell_type": "code",
      "metadata": {
        "id": "1ve7OdNOiRdP"
      },
      "source": [
        "df_10 = df_10.drop(['ITEM_F005','ITEM_F006','ITEM_F007','ITEM_F008','ITEM_F009','ITEM_F010','ITEM_F011','ITEM_F013','ITEM_F014','ITEM_F015','ITEM_F016','ITEM_F017','ITEM_F018','ITEM_F020','ITEM_F021',\n",
        "                    'ITEM_F023','ITEM_F024','ITEM_F025','ITEM_F026','ITEM_F027','ITEM_F028',\n",
        "                    'ITEM_F029','ITEM_F030','ITEM_F031','ITEM_F032','ITEM_F033','ITEM_F034','ITEM_F035','ITEM_F036','ITEM_F037',\n",
        "                    'ITEM_F038','ITEM_F039','ITEM_F040','ITEM_F041','TEST_CNT', 'CENTER_NM','AGE_GBN','TEST_GBN', 'INPUT_GBN','CERT_GBN','TEST_YMD','TEST_AGE'],axis=1)\n",
        "\n",
        "\n",
        "df_20 = df_20.drop(['ITEM_F005','ITEM_F006','ITEM_F007','ITEM_F008','ITEM_F009','ITEM_F010','ITEM_F011','ITEM_F013','ITEM_F014','ITEM_F015','ITEM_F016','ITEM_F017','ITEM_F018','ITEM_F020','ITEM_F021',\n",
        "                    'ITEM_F023','ITEM_F024','ITEM_F025','ITEM_F026','ITEM_F027','ITEM_F028',\n",
        "                    'ITEM_F029','ITEM_F030','ITEM_F031','ITEM_F032','ITEM_F033','ITEM_F034','ITEM_F035','ITEM_F036','ITEM_F037','ITEM_F038',\n",
        "                    'ITEM_F039','ITEM_F040','ITEM_F041','TEST_CNT', 'CENTER_NM','AGE_GBN','TEST_GBN', 'INPUT_GBN','CERT_GBN','TEST_YMD','TEST_AGE'],axis=1)\n",
        "\n",
        "\n",
        "df_60 = df_60.drop(['ITEM_F005','ITEM_F006','ITEM_F007','ITEM_F008','ITEM_F009','ITEM_F010','ITEM_F011','ITEM_F013','ITEM_F014','ITEM_F015','ITEM_F016','ITEM_F017','ITEM_F020','ITEM_F021',\n",
        "                    'ITEM_F022','ITEM_F024','ITEM_F025','ITEM_F028','ITEM_F018',\n",
        "                    'ITEM_F029','ITEM_F030','ITEM_F031','ITEM_F032','ITEM_F033','ITEM_F034','ITEM_F035','ITEM_F036','ITEM_F037',\n",
        "                    'ITEM_F038','ITEM_F039','ITEM_F040','ITEM_F041','TEST_CNT', 'CENTER_NM','AGE_GBN','TEST_GBN', 'INPUT_GBN','CERT_GBN','TEST_YMD','TEST_AGE'],axis=1)"
      ],
      "execution_count": null,
      "outputs": []
    },
    {
      "cell_type": "markdown",
      "metadata": {
        "id": "w1CpbKFIjSRZ"
      },
      "source": [
        "MICE, 평균대체 방법을 이용하여 결측값 대체"
      ]
    },
    {
      "cell_type": "code",
      "metadata": {
        "colab": {
          "base_uri": "https://localhost:8080/"
        },
        "id": "4G9dbG8IiRiU",
        "outputId": "d63b932f-58b2-4901-f237-640d0d09045a"
      },
      "source": [
        "df_10['ITEM_F003'] = df_10['ITEM_F003'].fillna(3)\n",
        "\n",
        "MICE_imputer = IterativeImputer()\n",
        "\n",
        "\n",
        "df_10_X = df_10.iloc[:,[0,1,2,3,4,5,6,11,12,13]]\n",
        "x_data_mice = df_10_X\n",
        "x_data_mice.iloc[:,:] = MICE_imputer.fit_transform(x_data_mice)\n",
        "df_10 = pd.concat([df_10_X,df_10.iloc[:,[7,8,9,10]]],axis=1)\n",
        "\n",
        "df_20_X = df_20.iloc[:,[0,1,2,3,4,5,6,11,12,13]]\n",
        "x_data_mice = df_20_X\n",
        "x_data_mice.iloc[:,:] = MICE_imputer.fit_transform(x_data_mice)\n",
        "df_20 = pd.concat([df_20_X,df_20.iloc[:,[7,8,9,10]]],axis=1)\n",
        "\n",
        "df_60_X = df_60.iloc[:,[0,1,2,3,4,5,6,7,8,13,14,15]]\n",
        "x_data_mice = df_60_X\n",
        "x_data_mice.iloc[:,:] = MICE_imputer.fit_transform(x_data_mice)\n",
        "df_60 = pd.concat([df_60_X,df_60.iloc[:,[9,10,11,12]]],axis=1)"
      ],
      "execution_count": null,
      "outputs": [
        {
          "output_type": "stream",
          "name": "stderr",
          "text": [
            "/usr/local/lib/python3.7/dist-packages/pandas/core/indexing.py:1734: SettingWithCopyWarning: \n",
            "A value is trying to be set on a copy of a slice from a DataFrame.\n",
            "Try using .loc[row_indexer,col_indexer] = value instead\n",
            "\n",
            "See the caveats in the documentation: https://pandas.pydata.org/pandas-docs/stable/user_guide/indexing.html#returning-a-view-versus-a-copy\n",
            "  isetter(loc, value[:, i].tolist())\n",
            "/usr/local/lib/python3.7/dist-packages/pandas/core/indexing.py:1734: SettingWithCopyWarning: \n",
            "A value is trying to be set on a copy of a slice from a DataFrame.\n",
            "Try using .loc[row_indexer,col_indexer] = value instead\n",
            "\n",
            "See the caveats in the documentation: https://pandas.pydata.org/pandas-docs/stable/user_guide/indexing.html#returning-a-view-versus-a-copy\n",
            "  isetter(loc, value[:, i].tolist())\n",
            "/usr/local/lib/python3.7/dist-packages/pandas/core/indexing.py:1734: SettingWithCopyWarning: \n",
            "A value is trying to be set on a copy of a slice from a DataFrame.\n",
            "Try using .loc[row_indexer,col_indexer] = value instead\n",
            "\n",
            "See the caveats in the documentation: https://pandas.pydata.org/pandas-docs/stable/user_guide/indexing.html#returning-a-view-versus-a-copy\n",
            "  isetter(loc, value[:, i].tolist())\n"
          ]
        }
      ]
    },
    {
      "cell_type": "markdown",
      "metadata": {
        "id": "TJZzF-72kpQv"
      },
      "source": [
        "각 운동에 맞게 X값 분할 및 Y값이 결측인 ROW 제거"
      ]
    },
    {
      "cell_type": "code",
      "metadata": {
        "id": "bbJmuYugjaif"
      },
      "source": [
        "df_pre_10 = df_10.drop(['PRES_NOTE','본운동','마무리운동'],axis=1)\n",
        "df_mai_10 = df_10.drop(['PRES_NOTE','준비운동','마무리운동'],axis=1)\n",
        "df_las_10 = df_10.drop(['PRES_NOTE','본운동','준비운동'],axis=1)\n",
        "\n",
        "df_pre_20 = df_20.drop(['PRES_NOTE','본운동','마무리운동'],axis=1)\n",
        "df_mai_20 = df_20.drop(['PRES_NOTE','준비운동','마무리운동'],axis=1)\n",
        "df_las_20 = df_20.drop(['PRES_NOTE','본운동','준비운동'],axis=1)\n",
        "\n",
        "df_pre_60 = df_60.drop(['PRES_NOTE','본운동','마무리운동'],axis=1)\n",
        "df_mai_60 = df_60.drop(['PRES_NOTE','준비운동','마무리운동'],axis=1)\n",
        "df_las_60 = df_60.drop(['PRES_NOTE','본운동','준비운동'],axis=1)\n",
        "\n",
        "df_pre_10 = df_pre_10[df_pre_10['준비운동'] !='']\n",
        "df_mai_10 = df_mai_10[df_mai_10['본운동'].isnull()==False]\n",
        "df_las_10 = df_las_10[df_las_10['마무리운동'].isnull()==False]\n",
        "\n",
        "df_pre_20 = df_pre_20[df_pre_20['준비운동'] !='']\n",
        "df_mai_20 = df_mai_20[df_mai_20['본운동'].isnull()==False]\n",
        "df_las_20 = df_las_20[df_las_20['마무리운동'].isnull()==False]\n",
        "\n",
        "df_pre_60 = df_pre_60[df_pre_60['준비운동'] !='']\n",
        "df_mai_60 = df_mai_60[df_mai_60['본운동'].isnull()==False]\n",
        "df_las_60 = df_las_60[df_las_60['마무리운동'].isnull()==False]"
      ],
      "execution_count": null,
      "outputs": []
    },
    {
      "cell_type": "markdown",
      "metadata": {
        "id": "rm0Dd2j8k7Im"
      },
      "source": [
        "각 X값에 맞는 Y값 추출"
      ]
    },
    {
      "cell_type": "code",
      "metadata": {
        "id": "JPkGRT3Rk4ot"
      },
      "source": [
        "df_y_pre_10 = df_pre_10['준비운동']\n",
        "df_y_mai_10 = df_mai_10['본운동']\n",
        "df_y_las_10 = df_las_10['마무리운동']\n",
        "\n",
        "df_y_pre_20 = df_pre_20['준비운동']\n",
        "df_y_mai_20 = df_mai_20['본운동']\n",
        "df_y_las_20 = df_las_20['마무리운동']\n",
        "\n",
        "df_y_pre_60 = df_pre_60['준비운동']\n",
        "df_y_mai_60 = df_mai_60['본운동']\n",
        "df_y_las_60 = df_las_60['마무리운동']\n",
        "\n",
        "df_pre_10 = df_pre_10.drop(['준비운동'],axis=1)\n",
        "df_mai_10 = df_mai_10.drop(['본운동'],axis=1)\n",
        "df_las_10 = df_las_10.drop(['마무리운동'],axis=1)\n",
        "\n",
        "df_pre_20 = df_pre_20.drop(['준비운동'],axis=1)\n",
        "df_mai_20 = df_mai_20.drop(['본운동'],axis=1)\n",
        "df_las_20 = df_las_20.drop(['마무리운동'],axis=1)\n",
        "\n",
        "df_pre_60 = df_pre_60.drop(['준비운동'],axis=1)\n",
        "df_mai_60 = df_mai_60.drop(['본운동'],axis=1)\n",
        "df_las_60 = df_las_60.drop(['마무리운동'],axis=1)"
      ],
      "execution_count": null,
      "outputs": []
    },
    {
      "cell_type": "markdown",
      "metadata": {
        "id": "9JGeMrwRlKgP"
      },
      "source": [
        "인덱스 제거"
      ]
    },
    {
      "cell_type": "code",
      "metadata": {
        "id": "7Duy6G8wk_Nf"
      },
      "source": [
        "df_y_pre_10 = df_y_pre_10.reset_index(drop=True)\n",
        "df_y_pre_20 = df_y_pre_20.reset_index(drop=True)\n",
        "df_y_pre_60 = df_y_pre_60.reset_index(drop=True)\n",
        "df_y_mai_10 = df_y_mai_10.reset_index(drop=True)\n",
        "df_y_mai_20 = df_y_mai_20.reset_index(drop=True)\n",
        "df_y_mai_60 = df_y_mai_60.reset_index(drop=True)\n",
        "df_y_las_10 = df_y_las_10.reset_index(drop=True)\n",
        "df_y_las_20 = df_y_las_20.reset_index(drop=True)\n",
        "df_y_las_60 = df_y_las_60.reset_index(drop=True)\n",
        "\n",
        "df_pre_10 = df_pre_10.reset_index(drop=True)\n",
        "df_pre_20 = df_pre_20.reset_index(drop=True)\n",
        "df_pre_60 = df_pre_60.reset_index(drop=True)\n",
        "df_mai_10 = df_mai_10.reset_index(drop=True)\n",
        "df_mai_20 = df_mai_20.reset_index(drop=True)\n",
        "df_mai_60 = df_mai_60.reset_index(drop=True)\n",
        "df_las_10 = df_las_10.reset_index(drop=True)\n",
        "df_las_20 = df_las_20.reset_index(drop=True)\n",
        "df_las_60 = df_las_60.reset_index(drop=True)"
      ],
      "execution_count": null,
      "outputs": []
    },
    {
      "cell_type": "markdown",
      "metadata": {
        "id": "70hIdFhhlP6m"
      },
      "source": [
        "Y값 전처리"
      ]
    },
    {
      "cell_type": "code",
      "metadata": {
        "id": "aPgWE7CllMc-"
      },
      "source": [
        "for i in range(len(df_y_pre_10)):\n",
        "  df_y_pre_10[i] = df_y_pre_10[i][5:]\n",
        "\n",
        "for i in range(len(df_y_pre_20)):\n",
        "  df_y_pre_20[i] = df_y_pre_20[i][5:]\n",
        "\n",
        "for i in range(len(df_y_pre_60)):\n",
        "  df_y_pre_60[i] = df_y_pre_60[i][5:]\n",
        "\n",
        "for i in range(len(df_y_mai_10)):\n",
        "  df_y_mai_10[i] = df_y_mai_10[i][4:]\n",
        "\n",
        "for i in range(len(df_y_mai_20)):\n",
        "  df_y_mai_20[i] = df_y_mai_20[i][4:]\n",
        "\n",
        "for i in range(len(df_y_mai_60)):\n",
        "  df_y_mai_60[i] = df_y_mai_60[i][4:]\n",
        "\n",
        "for i in range(len(df_y_las_10)):\n",
        "  df_y_las_10[i] = df_y_las_10[i][6:]\n",
        "\n",
        "for i in range(len(df_y_las_20)):\n",
        "  df_y_las_20[i] = df_y_las_20[i][6:]\n",
        "\n",
        "for i in range(len(df_y_las_60)):\n",
        "  df_y_las_60[i] = df_y_las_60[i][6:]\n",
        "\n",
        "df_y_pre_10 =df_y_pre_10.str.split(',')\n",
        "df_y_pre_20 =df_y_pre_20.str.split(',')\n",
        "df_y_pre_60 =df_y_pre_60.str.split(',')\n",
        "\n",
        "df_y_mai_10 =df_y_mai_10.str.split(',')\n",
        "df_y_mai_20 =df_y_mai_20.str.split(',')\n",
        "df_y_mai_60 =df_y_mai_60.str.split(',')\n",
        "\n",
        "df_y_las_10 =df_y_las_10.str.split(',')\n",
        "df_y_las_20 =df_y_las_20.str.split(',')\n",
        "df_y_las_60 =df_y_las_60.str.split(',')"
      ],
      "execution_count": null,
      "outputs": []
    },
    {
      "cell_type": "markdown",
      "metadata": {
        "id": "Qc8a0JETlcyn"
      },
      "source": [
        "Y값에서 유사한 공통항목 통합"
      ]
    },
    {
      "cell_type": "code",
      "metadata": {
        "id": "jBm3fy_ulXak"
      },
      "source": [
        "for i in range(len(df_y_mai_10)):\n",
        "  for j in range(len(df_y_mai_10[i])):\n",
        "    if df_y_mai_10[i][j] in ['계단 두 칸씩 뛰기','계단 두발 뛰어 오르기','계단 뛰어 오르기','계단 오르기','계단 한발 뛰기']:\n",
        "      df_y_mai_10[i][j] = '계단 올라갔다 내려오기'\n",
        "\n",
        "for i in range(len(df_y_mai_10)):\n",
        "  for j in range(len(df_y_mai_10[i])):\n",
        "    if df_y_mai_10[i][j] in ['고정식 트레드밀에서 걷기']:\n",
        "      df_y_mai_10[i][j] = '트레드밀에서 걷기'\n",
        "\n",
        "for i in range(len(df_y_mai_10)):\n",
        "  for j in range(len(df_y_mai_10[i])):\n",
        "    if df_y_mai_10[i][j] in ['누워서 굽힌 다리 펴기', '누워서 다리 좌우로 움직이기','누워서 하늘 자전거']:\n",
        "      df_y_mai_10[i][j] = '누워 무릎 기울기'\n",
        "for i in range(len(df_y_mai_10)):\n",
        "  for j in range(len(df_y_mai_10[i])):\n",
        "    if df_y_mai_10[i][j] in ['누워서 다리 들어올리기']:\n",
        "      df_y_mai_10[i][j] = '누워 다리 들어올리기' \n",
        "\n",
        "\n",
        "for i in range(len(df_y_mai_10)):\n",
        "  for j in range(len(df_y_mai_10[i])):\n",
        "    if df_y_mai_10[i][j] in ['덤벨 잡고 한발 내밀어 굽혔다 펴기']:\n",
        "      df_y_mai_10[i][j] = '덤벨 잡고 앉았다 일어서기'\n",
        "\n",
        "for i in range(len(df_y_mai_10)):\n",
        "  for j in range(len(df_y_mai_10[i])):\n",
        "    if df_y_mai_10[i][j] in ['무릎 아래에서 양옆으로 굴리기']:\n",
        "      df_y_mai_10[i][j] = '무릎굽혀 원 그리기' \n",
        "\n",
        "\n",
        "for i in range(len(df_y_mai_10)):\n",
        "  for j in range(len(df_y_mai_10[i])):\n",
        "    if df_y_mai_10[i][j] in ['바벨 당겨 올리기','바벨 잡고 들어올리기']:\n",
        "      df_y_mai_10[i][j] = '바벨들어올리기'\n",
        "\n",
        "for i in range(len(df_y_mai_10)):\n",
        "  for j in range(len(df_y_mai_10[i])):\n",
        "    if df_y_mai_10[i][j] in ['버피운동']:\n",
        "      df_y_mai_10[i][j] = '버피테스트'\n",
        "\n",
        "\n",
        "for i in range(len(df_y_mai_10)):\n",
        "  for j in range(len(df_y_mai_10[i])):\n",
        "    if df_y_mai_10[i][j] in ['사다리 옆으로 발 옮기기','사다리 좌우 뛰기','사다리 운동  루틴프로그램']:\n",
        "      df_y_mai_10[i][j] = '사다리 운동 루틴 프로그램'\n",
        "\n",
        "for i in range(len(df_y_mai_10)):\n",
        "  for j in range(len(df_y_mai_10[i])):\n",
        "    if df_y_mai_10[i][j] in ['스텝박스 오르내리기 ','스텝퍼 뛰어서 넘어가기','스텝퍼 옆으로 뛰어넘기','스템퍼 올라가서 점프하여 착지하기']:\n",
        "      df_y_mai_10[i][j] = '스텝퍼 뛰어서 오르내리기'\n",
        "\n",
        "for i in range(len(df_y_mai_10)):\n",
        "  for j in range(len(df_y_mai_10[i])):\n",
        "    if df_y_mai_10[i][j] in ['고정식 자전거 타기']:\n",
        "      df_y_mai_10[i][j] = '실내 자전거타기'\n",
        "for i in range(len(df_y_mai_10)):\n",
        "  for j in range(len(df_y_mai_10[i])):\n",
        "    if df_y_mai_10[i][j] in ['자전거타기']:\n",
        "      df_y_mai_10[i][j] = '자전거타기'\n",
        "\n",
        "\n",
        "for i in range(len(df_y_mai_10)):\n",
        "  for j in range(len(df_y_mai_10[i])):\n",
        "    if df_y_mai_10[i][j] in ['앉아서 다리 밀기 ','앉아서 다리 펴기','앉아서 밀기']:\n",
        "      df_y_mai_10[i][j] = '앉아서 다리 밀기'\n",
        "\n",
        "for i in range(len(df_y_mai_10)):\n",
        "  for j in range(len(df_y_mai_10[i])):\n",
        "    if df_y_mai_10[i][j] in ['어깨 올리기']:\n",
        "      df_y_mai_10[i][j] = '회전근개 스트레칭'\n",
        "\n",
        "\n",
        "for i in range(len(df_y_mai_10)):\n",
        "  for j in range(len(df_y_mai_10[i])):\n",
        "    if df_y_mai_10[i][j] in ['엉덩이 스트레칭2']:\n",
        "      df_y_mai_10[i][j] = '엉덩이 스트레칭'\n",
        "\n",
        "for i in range(len(df_y_mai_10)):\n",
        "  for j in range(len(df_y_mai_10[i])):\n",
        "    if df_y_mai_10[i][j] in ['엎드려서 팔 다리 들기','엎드려서 다리 차 올리기']:\n",
        "      df_y_mai_10[i][j] = '엎드려 팔다리 교차올리기'\n",
        "\n",
        "\n",
        "for i in range(len(df_y_mai_10)):\n",
        "  for j in range(len(df_y_mai_10[i])):\n",
        "    if df_y_mai_10[i][j] in ['윗몸 말아 올리기', '윗몸 일으키기','윗몸말아올리기','상체 감아올리기']:\n",
        "      df_y_mai_10[i][j] = '윗몸올리기'\n",
        "\n",
        "for i in range(len(df_y_mai_10)):\n",
        "  for j in range(len(df_y_mai_10[i])):\n",
        "    if df_y_mai_10[i][j] in ['빠르게 걷기']:\n",
        "      df_y_mai_10[i][j] = '조깅'\n",
        "\n",
        "for i in range(len(df_y_mai_10)):\n",
        "  for j in range(len(df_y_mai_10[i])):\n",
        "    if df_y_mai_10[i][j] in ['줄넘기 운동','1단 줄넘기']:\n",
        "      df_y_mai_10[i][j] = '줄넘기'\n",
        "\n",
        "\n",
        "for i in range(len(df_y_mai_10)):\n",
        "  for j in range(len(df_y_mai_10[i])):\n",
        "    if df_y_mai_10[i][j] in ['콘운동  루틴프로그램']:\n",
        "      df_y_mai_10[i][j] = '순간반응 콘 찍기'\n",
        "\n",
        "\n",
        "for i in range(len(df_y_mai_10)):\n",
        "  for j in range(len(df_y_mai_10[i])):\n",
        "    if df_y_mai_10[i][j] in ['팔굽혀 펴기','벽에서 팔굽혀 펴기']:\n",
        "      df_y_mai_10[i][j] = '팔굽혀펴기'\n",
        "\n",
        "\n",
        "for i in range(len(df_y_mai_10)):\n",
        "  for j in range(len(df_y_mai_10[i])):\n",
        "    if df_y_mai_10[i][j] in ['서서 팔꿈치 펴기','앉아서 팔꿈치 굽히기','앉아서 팔꿈치 굽히기/펴기']:\n",
        "      df_y_mai_10[i][j] = '팔꿈치 굽히기' \n",
        "\n",
        "\n",
        "for i in range(len(df_y_mai_20)):\n",
        "  for j in range(len(df_y_mai_20[i])):\n",
        "    if df_y_mai_20[i][j] in ['계단 두 칸씩 뛰기','계단 두발 뛰어 오르기','계단 뛰어 오르기','계단 오르기','계단 한발 뛰기']:\n",
        "      df_y_mai_20[i][j] = '계단 올라갔다 내려오기'\n",
        "\n",
        "for i in range(len(df_y_mai_20)):\n",
        "  for j in range(len(df_y_mai_20[i])):\n",
        "    if df_y_mai_20[i][j] in ['고정식 트레드밀에서 걷기']:\n",
        "      df_y_mai_20[i][j] = '트레드밀에서 걷기'\n",
        "\n",
        "for i in range(len(df_y_mai_20)):\n",
        "  for j in range(len(df_y_mai_20[i])):\n",
        "    if df_y_mai_20[i][j] in ['누워서 굽힌 다리 펴기', '누워서 다리 좌우로 움직이기','누워서 하늘 자전거']:\n",
        "      df_y_mai_20[i][j] = '누워 무릎 기울기'\n",
        "for i in range(len(df_y_mai_20)):\n",
        "  for j in range(len(df_y_mai_20[i])):\n",
        "    if df_y_mai_20[i][j] in ['누워서 다리 들어올리기']:\n",
        "      df_y_mai_20[i][j] = '누워 다리 들어올리기' \n",
        "\n",
        "\n",
        "for i in range(len(df_y_mai_20)):\n",
        "  for j in range(len(df_y_mai_20[i])):\n",
        "    if df_y_mai_20[i][j] in ['덤벨 잡고 한발 내밀어 굽혔다 펴기']:\n",
        "      df_y_mai_20[i][j] = '덤벨 잡고 앉았다 일어서기'\n",
        "\n",
        "for i in range(len(df_y_mai_20)):\n",
        "  for j in range(len(df_y_mai_20[i])):\n",
        "    if df_y_mai_20[i][j] in ['무릎 아래에서 양옆으로 굴리기']:\n",
        "      df_y_mai_20[i][j] = '무릎굽혀 원 그리기' \n",
        "\n",
        "\n",
        "for i in range(len(df_y_mai_20)):\n",
        "  for j in range(len(df_y_mai_20[i])):\n",
        "    if df_y_mai_20[i][j] in ['바벨 당겨 올리기','바벨 잡고 들어올리기']:\n",
        "      df_y_mai_20[i][j] = '바벨들어올리기'\n",
        "\n",
        "for i in range(len(df_y_mai_20)):\n",
        "  for j in range(len(df_y_mai_20[i])):\n",
        "    if df_y_mai_20[i][j] in ['버피운동']:\n",
        "      df_y_mai_20[i][j] = '버피테스트'\n",
        "\n",
        "\n",
        "for i in range(len(df_y_mai_20)):\n",
        "  for j in range(len(df_y_mai_20[i])):\n",
        "    if df_y_mai_20[i][j] in ['사다리 옆으로 발 옮기기','사다리 좌우 뛰기', '사다리 운동  루팀프로그램']:\n",
        "      df_y_mai_20[i][j] = '사다리 운동 루틴 프로그램'\n",
        "\n",
        "for i in range(len(df_y_mai_20)):\n",
        "  for j in range(len(df_y_mai_20[i])):\n",
        "    if df_y_mai_20[i][j] in ['스텝박스 오르내리기 ','스텝퍼 뛰어서 넘어가기','스텝퍼 옆으로 뛰어넘기','스템퍼 올라가서 점프하여 착지하기']:\n",
        "      df_y_mai_20[i][j] = '스텝퍼 뛰어서 오르내리기'\n",
        "\n",
        "for i in range(len(df_y_mai_20)):\n",
        "  for j in range(len(df_y_mai_20[i])):\n",
        "    if df_y_mai_20[i][j] in ['고정식 자전거 타기']:\n",
        "      df_y_mai_20[i][j] = '실내 자전거타기'\n",
        "for i in range(len(df_y_mai_20)):\n",
        "  for j in range(len(df_y_mai_20[i])):\n",
        "    if df_y_mai_20[i][j] in ['자전거타기']:\n",
        "      df_y_mai_20[i][j] = '자전거타기'\n",
        "\n",
        "\n",
        "for i in range(len(df_y_mai_20)):\n",
        "  for j in range(len(df_y_mai_20[i])):\n",
        "    if df_y_mai_20[i][j] in ['앉아서 다리 밀기 ','앉아서 다리 펴기','앉아서 밀기']:\n",
        "      df_y_mai_20[i][j] = '앉아서 다리 밀기'\n",
        "\n",
        "for i in range(len(df_y_mai_20)):\n",
        "  for j in range(len(df_y_mai_20[i])):\n",
        "    if df_y_mai_20[i][j] in ['어깨 올리기']:\n",
        "      df_y_mai_20[i][j] = '회전근개 스트레칭'\n",
        "\n",
        "\n",
        "for i in range(len(df_y_mai_20)):\n",
        "  for j in range(len(df_y_mai_20[i])):\n",
        "    if df_y_mai_20[i][j] in ['엉덩이 스트레칭2']:\n",
        "      df_y_mai_20[i][j] = '엉덩이 스트레칭'\n",
        "\n",
        "for i in range(len(df_y_mai_20)):\n",
        "  for j in range(len(df_y_mai_20[i])):\n",
        "    if df_y_mai_20[i][j] in ['엎드려서 팔 다리 들기','엎드려서 다리 차 올리기']:\n",
        "      df_y_mai_20[i][j] = '엎드려 팔다리 교차올리기'\n",
        "\n",
        "\n",
        "for i in range(len(df_y_mai_20)):\n",
        "  for j in range(len(df_y_mai_20[i])):\n",
        "    if df_y_mai_20[i][j] in ['윗몸 말아 올리기', '윗몸 일으키기','윗몸말아올리기','상체 감아올리기']:\n",
        "      df_y_mai_20[i][j] = '윗몸올리기'\n",
        "\n",
        "for i in range(len(df_y_mai_20)):\n",
        "  for j in range(len(df_y_mai_20[i])):\n",
        "    if df_y_mai_20[i][j] in ['빠르게 걷기']:\n",
        "      df_y_mai_20[i][j] = '조깅'\n",
        "\n",
        "for i in range(len(df_y_mai_20)):\n",
        "  for j in range(len(df_y_mai_20[i])):\n",
        "    if df_y_mai_20[i][j] in ['줄넘기 운동','1단 줄넘기']:\n",
        "      df_y_mai_20[i][j] = '줄넘기'\n",
        "\n",
        "\n",
        "for i in range(len(df_y_mai_20)):\n",
        "  for j in range(len(df_y_mai_20[i])):\n",
        "    if df_y_mai_20[i][j] in ['콘운동  루틴프로그램']:\n",
        "      df_y_mai_20[i][j] = '순간반응 콘 찍기'\n",
        "\n",
        "\n",
        "for i in range(len(df_y_mai_20)):\n",
        "  for j in range(len(df_y_mai_20[i])):\n",
        "    if df_y_mai_20[i][j] in ['팔굽혀 펴기','벽에서 팔굽혀 펴기']:\n",
        "      df_y_mai_20[i][j] = '팔굽혀펴기'\n",
        "\n",
        "\n",
        "for i in range(len(df_y_mai_20)):\n",
        "  for j in range(len(df_y_mai_20[i])):\n",
        "    if df_y_mai_20[i][j] in ['서서 팔꿈치 펴기','앉아서 팔꿈치 굽히기','앉아서 팔꿈치 굽히기/펴기']:\n",
        "      df_y_mai_20[i][j] = '팔꿈치 굽히기' \n",
        "\n",
        "\n",
        "for i in range(len(df_y_mai_60)):\n",
        "  for j in range(len(df_y_mai_60[i])):\n",
        "    if df_y_mai_60[i][j] in ['계단 두 칸씩 뛰기','계단 두발 뛰어 오르기','계단 뛰어 오르기','계단 오르기','계단 한발 뛰기']:\n",
        "      df_y_mai_60[i][j] = '계단 올라갔다 내려오기'\n",
        "\n",
        "for i in range(len(df_y_mai_60)):\n",
        "  for j in range(len(df_y_mai_60[i])):\n",
        "    if df_y_mai_60[i][j] in ['고정식 트레드밀에서 걷기']:\n",
        "      df_y_mai_60[i][j] = '트레드밀에서 걷기'\n",
        "\n",
        "for i in range(len(df_y_mai_60)):\n",
        "  for j in range(len(df_y_mai_60[i])):\n",
        "    if df_y_mai_60[i][j] in ['누워서 굽힌 다리 펴기', '누워서 다리 좌우로 움직이기','누워서 하늘 자전거']:\n",
        "      df_y_mai_60[i][j] = '누워 무릎 기울기'\n",
        "for i in range(len(df_y_mai_60)):\n",
        "  for j in range(len(df_y_mai_60[i])):\n",
        "    if df_y_mai_60[i][j] in ['누워서 다리 들어올리기']:\n",
        "      df_y_mai_60[i][j] = '누워 다리 들어올리기' \n",
        "\n",
        "\n",
        "for i in range(len(df_y_mai_60)):\n",
        "  for j in range(len(df_y_mai_60[i])):\n",
        "    if df_y_mai_60[i][j] in ['덤벨 잡고 한발 내밀어 굽혔다 펴기']:\n",
        "      df_y_mai_60[i][j] = '덤벨 잡고 앉았다 일어서기'\n",
        "\n",
        "for i in range(len(df_y_mai_60)):\n",
        "  for j in range(len(df_y_mai_60[i])):\n",
        "    if df_y_mai_60[i][j] in ['무릎 아래에서 양옆으로 굴리기']:\n",
        "      df_y_mai_60[i][j] = '무릎굽혀 원 그리기' \n",
        "\n",
        "\n",
        "for i in range(len(df_y_mai_60)):\n",
        "  for j in range(len(df_y_mai_60[i])):\n",
        "    if df_y_mai_60[i][j] in ['바벨 당겨 올리기','바벨 잡고 들어올리기']:\n",
        "      df_y_mai_60[i][j] = '바벨들어올리기'\n",
        "\n",
        "for i in range(len(df_y_mai_60)):\n",
        "  for j in range(len(df_y_mai_60[i])):\n",
        "    if df_y_mai_60[i][j] in ['버피운동']:\n",
        "      df_y_mai_60[i][j] = '버피테스트'\n",
        "\n",
        "\n",
        "for i in range(len(df_y_mai_60)):\n",
        "  for j in range(len(df_y_mai_60[i])):\n",
        "    if df_y_mai_60[i][j] in ['사다리 옆으로 발 옮기기','사다리 좌우 뛰기','사다리 운동 루팀  프로그램']:\n",
        "      df_y_mai_60[i][j] = '사다리 운동 루틴 프로그램'\n",
        "\n",
        "for i in range(len(df_y_mai_60)):\n",
        "  for j in range(len(df_y_mai_60[i])):\n",
        "    if df_y_mai_60[i][j] in ['스텝박스 오르내리기 ','스텝퍼 뛰어서 넘어가기','스텝퍼 옆으로 뛰어넘기','스템퍼 올라가서 점프하여 착지하기']:\n",
        "      df_y_mai_60[i][j] = '스텝퍼 뛰어서 오르내리기'\n",
        "\n",
        "for i in range(len(df_y_mai_60)):\n",
        "  for j in range(len(df_y_mai_60[i])):\n",
        "    if df_y_mai_60[i][j] in ['고정식 자전거 타기']:\n",
        "      df_y_mai_60[i][j] = '실내 자전거타기'\n",
        "for i in range(len(df_y_mai_60)):\n",
        "  for j in range(len(df_y_mai_60[i])):\n",
        "    if df_y_mai_60[i][j] in ['자전거타기']:\n",
        "      df_y_mai_60[i][j] = '자전거타기'\n",
        "\n",
        "\n",
        "for i in range(len(df_y_mai_60)):\n",
        "  for j in range(len(df_y_mai_60[i])):\n",
        "    if df_y_mai_60[i][j] in ['앉아서 다리 밀기 ','앉아서 다리 펴기','앉아서 밀기']:\n",
        "      df_y_mai_60[i][j] = '앉아서 다리 밀기'\n",
        "\n",
        "for i in range(len(df_y_mai_60)):\n",
        "  for j in range(len(df_y_mai_60[i])):\n",
        "    if df_y_mai_60[i][j] in ['어깨 올리기']:\n",
        "      df_y_mai_60[i][j] = '회전근개 스트레칭'\n",
        "\n",
        "\n",
        "for i in range(len(df_y_mai_60)):\n",
        "  for j in range(len(df_y_mai_60[i])):\n",
        "    if df_y_mai_60[i][j] in ['엉덩이 스트레칭2']:\n",
        "      df_y_mai_60[i][j] = '엉덩이 스트레칭'\n",
        "\n",
        "for i in range(len(df_y_mai_60)):\n",
        "  for j in range(len(df_y_mai_60[i])):\n",
        "    if df_y_mai_60[i][j] in ['엎드려서 팔 다리 들기','엎드려서 다리 차 올리기']:\n",
        "      df_y_mai_60[i][j] = '엎드려 팔다리 교차올리기'\n",
        "\n",
        "\n",
        "for i in range(len(df_y_mai_60)):\n",
        "  for j in range(len(df_y_mai_60[i])):\n",
        "    if df_y_mai_60[i][j] in ['윗몸 말아 올리기', '윗몸 일으키기','윗몸말아올리기','상체 감아올리기']:\n",
        "      df_y_mai_60[i][j] = '윗몸올리기'\n",
        "\n",
        "for i in range(len(df_y_mai_60)):\n",
        "  for j in range(len(df_y_mai_60[i])):\n",
        "    if df_y_mai_60[i][j] in ['빠르게 걷기']:\n",
        "      df_y_mai_60[i][j] = '조깅'\n",
        "\n",
        "for i in range(len(df_y_mai_60)):\n",
        "  for j in range(len(df_y_mai_60[i])):\n",
        "    if df_y_mai_60[i][j] in ['줄넘기 운동','1단 줄넘기']:\n",
        "      df_y_mai_60[i][j] = '줄넘기'\n",
        "\n",
        "\n",
        "for i in range(len(df_y_mai_60)):\n",
        "  for j in range(len(df_y_mai_60[i])):\n",
        "    if df_y_mai_60[i][j] in ['콘운동  루틴프로그램']:\n",
        "      df_y_mai_60[i][j] = '순간반응 콘 찍기'\n",
        "\n",
        "\n",
        "for i in range(len(df_y_mai_60)):\n",
        "  for j in range(len(df_y_mai_60[i])):\n",
        "    if df_y_mai_60[i][j] in ['팔굽혀 펴기','벽에서 팔굽혀 펴기']:\n",
        "      df_y_mai_60[i][j] = '팔굽혀펴기'\n",
        "\n",
        "\n",
        "for i in range(len(df_y_mai_60)):\n",
        "  for j in range(len(df_y_mai_60[i])):\n",
        "    if df_y_mai_60[i][j] in ['서서 팔꿈치 펴기','앉아서 팔꿈치 굽히기','앉아서 팔꿈치 굽히기/펴기']:\n",
        "      df_y_mai_60[i][j] = '팔꿈치 굽히기' "
      ],
      "execution_count": null,
      "outputs": []
    },
    {
      "cell_type": "markdown",
      "metadata": {
        "id": "qPEMuYcynS7k"
      },
      "source": [
        "1. 준비, 본, 마무리 운동 각각 유니크값으로 분리\n",
        "2. 유니크값으로 y값 변경\n",
        "3. 유니크값이 해당y변수에 존재하면 1 아니면 0 으로 변경\n",
        "4. y값을 문자열변수에서 각운동 변수에 가중치를 주는 숫자형식으로 변경"
      ]
    },
    {
      "cell_type": "code",
      "metadata": {
        "id": "yLsByOFPliyB"
      },
      "source": [
        "a=[]\n",
        "for i in range(len(df_y_mai_10)):\n",
        "  for j in range(len(df_y_mai_10[i])):\n",
        "    a.append(df_y_mai_10[i][j])\n",
        "\n",
        "b=[]\n",
        "for i in range(len(df_y_mai_20)):\n",
        "  for j in range(len(df_y_mai_20[i])):\n",
        "    b.append(df_y_mai_20[i][j])\n",
        "\n",
        "c=[]\n",
        "for i in range(len(df_y_mai_60)):\n",
        "  for j in range(len(df_y_mai_60[i])):\n",
        "    c.append(df_y_mai_60[i][j])"
      ],
      "execution_count": null,
      "outputs": []
    },
    {
      "cell_type": "code",
      "metadata": {
        "id": "biqhOti7mx1l"
      },
      "source": [
        "ar = np.zeros((387, 117))\n",
        "ar1 = np.zeros((826, 112))\n",
        "ar2 = np.zeros((133, 99))\n",
        "\n",
        "df_ar = pd.DataFrame(ar)\n",
        "df_ar1 = pd.DataFrame(ar1)\n",
        "df_ar2 = pd.DataFrame(ar2)\n",
        "\n",
        "colname_a = list(set(a))\n",
        "colname_b = list(set(b))\n",
        "colname_c = list(set(c))\n",
        "colname_a.sort()\n",
        "colname_b.sort()\n",
        "colname_c.sort()\n",
        "\n",
        "df_ar.columns = colname_a\n",
        "df_ar1.columns = colname_b\n",
        "df_ar2.columns = colname_c\n",
        "\n",
        "for i in df_ar.columns:\n",
        "  for j in range(len(df_y_mai_10)):\n",
        "    if i in df_y_mai_10[j] :\n",
        "      df_ar[i][j] = 1\n",
        "\n",
        "for i in df_ar1.columns:\n",
        "  for j in range(len(df_y_mai_20)):\n",
        "    if i in df_y_mai_20[j] :\n",
        "      df_ar1[i][j] = 1\n",
        "\n",
        "for i in df_ar2.columns:\n",
        "  for j in range(len(df_y_mai_60)):\n",
        "    if i in df_y_mai_60[j] :\n",
        "      df_ar2[i][j] = 1"
      ],
      "execution_count": null,
      "outputs": []
    },
    {
      "cell_type": "code",
      "metadata": {
        "id": "F-ql2E-snlHU"
      },
      "source": [
        "a1=[]\n",
        "for i in range(len(df_y_pre_10)):\n",
        "  for j in range(len(df_y_pre_10[i])):\n",
        "    a1.append(df_y_pre_10[i][j])\n",
        "\n",
        "b1=[]\n",
        "for i in range(len(df_y_pre_20)):\n",
        "  for j in range(len(df_y_pre_20[i])):\n",
        "    b1.append(df_y_pre_20[i][j])\n",
        "\n",
        "c1=[]\n",
        "for i in range(len(df_y_pre_60)):\n",
        "  for j in range(len(df_y_pre_60[i])):\n",
        "    c1.append(df_y_pre_60[i][j])\n",
        "\n",
        "\n",
        "aar = np.zeros((239, 65))\n",
        "aar1 = np.zeros((517, 60))\n",
        "aar2 = np.zeros((124, 37))\n",
        "\n",
        "df_aar = pd.DataFrame(aar)\n",
        "df_aar1 = pd.DataFrame(aar1)\n",
        "df_aar2 = pd.DataFrame(aar2)\n",
        "\n",
        "colname_a1 = list(set(a1))\n",
        "colname_b1 = list(set(b1))\n",
        "colname_c1 = list(set(c1))\n",
        "colname_a1.sort()\n",
        "colname_b1.sort()\n",
        "colname_c1.sort()\n",
        "\n",
        "df_aar.columns = colname_a1\n",
        "df_aar1.columns = colname_b1\n",
        "df_aar2.columns = colname_c1\n",
        "\n",
        "for i in df_aar.columns:\n",
        "  for j in range(len(df_y_pre_10)):\n",
        "    if i in df_y_pre_10[j] :\n",
        "      df_aar[i][j] = 1\n",
        "\n",
        "for i in df_aar1.columns:\n",
        "  for j in range(len(df_y_pre_20)):\n",
        "    if i in df_y_pre_20[j] :\n",
        "      df_aar1[i][j] = 1\n",
        "\n",
        "for i in df_aar2.columns:\n",
        "  for j in range(len(df_y_pre_60)):\n",
        "    if i in df_y_pre_60[j] :\n",
        "      df_aar2[i][j] = 1"
      ],
      "execution_count": null,
      "outputs": []
    },
    {
      "cell_type": "code",
      "metadata": {
        "id": "73bDeZuknoVE"
      },
      "source": [
        "a2=[]\n",
        "for i in range(len(df_y_las_10)):\n",
        "  for j in range(len(df_y_las_10[i])):\n",
        "    a2.append(df_y_las_10[i][j])\n",
        "\n",
        "b2=[]\n",
        "for i in range(len(df_y_las_20)):\n",
        "  for j in range(len(df_y_las_20[i])):\n",
        "    b2.append(df_y_las_20[i][j])\n",
        "\n",
        "c2=[]\n",
        "for i in range(len(df_y_las_60)):\n",
        "  for j in range(len(df_y_las_60[i])):\n",
        "    c2.append(df_y_las_60[i][j])\n",
        "\n",
        "aaar = np.zeros((214, 49))\n",
        "aaar1 = np.zeros((426, 25))\n",
        "aaar2 = np.zeros((106, 28))\n",
        "\n",
        "df_aaar = pd.DataFrame(aaar)\n",
        "df_aaar1 = pd.DataFrame(aaar1)\n",
        "df_aaar2 = pd.DataFrame(aaar2)\n",
        "\n",
        "colname_a2 = list(set(a2))\n",
        "colname_b2 = list(set(b2))\n",
        "colname_c2 = list(set(c2))\n",
        "colname_a2.sort()\n",
        "colname_b2.sort()\n",
        "colname_c2.sort()\n",
        "\n",
        "df_aaar.columns = colname_a2\n",
        "df_aaar1.columns = colname_b2\n",
        "df_aaar2.columns = colname_c2\n",
        "\n",
        "for i in df_aaar.columns:\n",
        "  for j in range(len(df_y_las_10)):\n",
        "    if i in df_y_las_10[j] :\n",
        "      df_aaar[i][j] = 1\n",
        "\n",
        "for i in df_aaar1.columns:\n",
        "  for j in range(len(df_y_las_20)):\n",
        "    if i in df_y_las_20[j] :\n",
        "      df_aaar1[i][j] = 1\n",
        "\n",
        "for i in df_aaar2.columns:\n",
        "  for j in range(len(df_y_las_60)):\n",
        "    if i in df_y_las_60[j] :\n",
        "      df_aaar2[i][j] = 1"
      ],
      "execution_count": null,
      "outputs": []
    },
    {
      "cell_type": "markdown",
      "metadata": {
        "id": "Oa_gelv5oKpz"
      },
      "source": [
        "mae를 최소로하는 방향으로 모델 최적화"
      ]
    },
    {
      "cell_type": "code",
      "metadata": {
        "id": "iRHxjYbUnsd7"
      },
      "source": [
        "xgb_model = xgb.XGBRegressor(objective='reg:squarederror',\n",
        "                             learning_rate =0.1,\n",
        "                             n_estimators=100,\n",
        "                             max_depth=3,\n",
        "                             gamma=0.1,  \n",
        ")"
      ],
      "execution_count": null,
      "outputs": []
    },
    {
      "cell_type": "code",
      "metadata": {
        "id": "x5yjDaDiov_6"
      },
      "source": [
        "mae_s = 0\n",
        "for i in df_ar1.columns:\n",
        "  x_train, x_test, y_train, y_test = train_test_split(df_mai_20, df_ar1[i], train_size=0.8, test_size=0.2 )\n",
        "  x_1 = xgb_model.fit(x_train, y_train)\n",
        "  y_pred = x_1.predict(x_test)\n",
        "  num_s1 = mean_absolute_error(y_pred,y_test)\n",
        "  mae_s = num_s + num_s1\n",
        "mae_s"
      ],
      "execution_count": null,
      "outputs": []
    },
    {
      "cell_type": "markdown",
      "metadata": {
        "id": "cHlaw8dHrHTg"
      },
      "source": [
        "##실제 센터에서 측정 후 센터와 모델예측값 비교"
      ]
    },
    {
      "cell_type": "code",
      "metadata": {
        "id": "gVkMPJsdqt-W"
      },
      "source": [
        "AGE_NUM = 65\n",
        "\n",
        "if AGE_NUM >= 60 : \n",
        "  x_jh = [174.7, 69.2, 2, 80.3, -24.5, 26,20,5,20, 2, 0,1]\n",
        "  x_jh = pd.DataFrame(x_jh)\n",
        "  x_jh = x_jh.transpose()\n",
        "  x_jh.columns = ['ITEM_F001','ITEM_F002','ITEM_F003','ITEM_F004','ITEM_F012','ITEM_F019',\n",
        "                'ITEM_F023','ITEM_F026','ITEM_F027','BP','TEST_SEX_F','TEST_SEX_M']\n",
        "  x = x_jh\n",
        "else :\n",
        "\n",
        "  x_jh = [174.7, 69.2, 2, 80.3, -24.5, 26, 215, 2, 0,1]\n",
        "  x_jh = pd.DataFrame(x_jh)\n",
        "  x_jh = x_jh.transpose()\n",
        "  x_jh.columns = ['ITEM_F001','ITEM_F002','ITEM_F003','ITEM_F004','ITEM_F012','ITEM_F019',\n",
        "                  'ITEM_F022','BP','TEST_SEX_F','TEST_SEX_M']\n",
        "  x = x_jh"
      ],
      "execution_count": null,
      "outputs": []
    },
    {
      "cell_type": "code",
      "metadata": {
        "id": "dDJtZPA9p-g1"
      },
      "source": [
        "if AGE_NUM < 20 :\n",
        "  re = []\n",
        "  for i in df_aar.columns:\n",
        "    re.append(xgb_model.fit(df_pre_10, df_aar[i]).predict(x)[0])\n",
        "\n",
        "  re1 = []\n",
        "  for i in df_ar.columns:\n",
        "    re1.append(xgb_model.fit(df_mai_10, df_ar[i]).predict(x)[0])\n",
        "\n",
        "  re2 = []\n",
        "  for i in df_aaar.columns:\n",
        "    re2.append(xgb_model.fit(df_las_10, df_aaar[i]).predict(x)[0])\n",
        "\n",
        "  p_ind=[]\n",
        "  re_se = sorted(re)\n",
        "  re_se.reverse()\n",
        "  for i in re:\n",
        "    p_ind.append(re_se.index(i)+1)\n",
        "\n",
        "  p_ind1=[]\n",
        "  re_se1 = sorted(re1)\n",
        "  re_se1.reverse()\n",
        "  for i in re1:\n",
        "    p_ind1.append(re_se1.index(i)+1)\n",
        "\n",
        "  p_ind2=[]\n",
        "  re_se2 = sorted(re2)\n",
        "  re_se2.reverse()\n",
        "  for i in re2:\n",
        "    p_ind2.append(re_se2.index(i)+1)\n",
        "\n",
        "  aa=[]\n",
        "  for i in range(len(p_ind)):\n",
        "    if p_ind[i] <= 3:\n",
        "      aa.append(i)\n",
        "\n",
        "  bb=[]\n",
        "  for i in range(len(p_ind1)):\n",
        "    if p_ind1[i] <= 3:\n",
        "      bb.append(i)\n",
        "\n",
        "  cc=[]\n",
        "  for i in range(len(p_ind2)):\n",
        "    if p_ind2[i] <= 3:\n",
        "      cc.append(i)\n",
        "\n",
        "  #준비운동\n",
        "  pre_result1 = df_aar.columns[aa[0]]\n",
        "  pre_result2 = df_aar.columns[aa[1]]\n",
        "  pre_result3 = df_aar.columns[aa[2]]\n",
        "\n",
        "  #본운동\n",
        "  main_result1 = df_ar.columns[bb[0]]\n",
        "  main_result2 = df_ar.columns[bb[1]]\n",
        "  main_result3 = df_ar.columns[bb[2]]\n",
        "\n",
        "  #마무리운동\n",
        "  print(df_aaar.columns[cc[0]])\n",
        "  print(df_aaar.columns[cc[1]])\n",
        "  print(df_aaar.columns[cc[2]])\n",
        "elif AGE_NUM < 60 :\n",
        "  ree = []\n",
        "  for i in df_aar1.columns:\n",
        "    ree.append(xgb_model.fit(df_pre_20, df_aar1[i]).predict(x)[0])\n",
        "\n",
        "  ree1 = []\n",
        "  for i in df_ar1.columns:\n",
        "    ree1.append(xgb_model.fit(df_mai_20, df_ar1[i]).predict(x)[0])\n",
        "\n",
        "  ree2 = []\n",
        "  for i in df_aaar1.columns:\n",
        "    ree2.append(xgb_model.fit(df_las_20, df_aaar1[i]).predict(x)[0])\n",
        "\n",
        "  pp_ind=[]\n",
        "  ree_se = sorted(ree)\n",
        "  ree_se.reverse()\n",
        "  for i in ree:\n",
        "    pp_ind.append(ree_se.index(i)+1)\n",
        "\n",
        "  pp_ind1=[]\n",
        "  ree_se1 = sorted(ree1)\n",
        "  ree_se1.reverse()\n",
        "  for i in ree1:\n",
        "    pp_ind1.append(ree_se1.index(i)+1)\n",
        "\n",
        "  pp_ind2=[]\n",
        "  ree_se2 = sorted(ree2)\n",
        "  ree_se2.reverse()\n",
        "  for i in ree2:\n",
        "    pp_ind2.append(ree_se2.index(i)+1)\n",
        "\n",
        "  aaa=[]\n",
        "  for i in range(len(pp_ind)):\n",
        "    if pp_ind[i] <= 3:\n",
        "      aaa.append(i)\n",
        "\n",
        "  bbb=[]\n",
        "  for i in range(len(pp_ind1)):\n",
        "    if pp_ind1[i] <= 3:\n",
        "      bbb.append(i)\n",
        "\n",
        "  ccc=[]\n",
        "  for i in range(len(pp_ind2)):\n",
        "    if pp_ind2[i] <= 3:\n",
        "      ccc.append(i)\n",
        "\n",
        "  #준비운동\n",
        "  pre_result1 = df_aar1.columns[aaa[0]]\n",
        "  pre_result2 = df_aar1.columns[aaa[1]]\n",
        "  pre_result3 = df_aar1.columns[aaa[2]]\n",
        "\n",
        "\n",
        "  #본운동\n",
        "  main_result1 = df_ar1.columns[bbb[0]]\n",
        "  main_result2 = df_ar1.columns[bbb[1]]\n",
        "  main_result3 = df_ar1.columns[bbb[2]]\n",
        "\n",
        "  #마무리운동\n",
        "  last_result1 = df_aaar1.columns[ccc[0]]\n",
        "  last_result2 = df_aaar1.columns[ccc[1]]\n",
        "  last_result3 = df_aaar1.columns[ccc[2]]\n",
        "\n",
        "elif AGE_NUM >= 60 :\n",
        "  reee = []\n",
        "  for i in df_aar2.columns:\n",
        "    reee.append(xgb_model.fit(df_pre_60, df_aar2[i]).predict(x)[0])\n",
        "\n",
        "  reee1 = []\n",
        "  for i in df_ar2.columns:\n",
        "    reee1.append(xgb_model.fit(df_mai_60, df_ar2[i]).predict(x)[0])\n",
        "\n",
        "  reee2 = []\n",
        "  for i in df_aaar2.columns:\n",
        "    reee2.append(xgb_model.fit(df_las_60, df_aaar2[i]).predict(x)[0])\n",
        "\n",
        "  ppp_ind=[]\n",
        "  reee_se = sorted(reee)\n",
        "  reee_se.reverse()\n",
        "  for i in reee:\n",
        "    ppp_ind.append(reee_se.index(i)+1)\n",
        "\n",
        "  ppp_ind1=[]\n",
        "  reee_se1 = sorted(reee1)\n",
        "  reee_se1.reverse()\n",
        "  for i in reee1:\n",
        "    ppp_ind1.append(reee_se1.index(i)+1)\n",
        "\n",
        "  ppp_ind2=[]\n",
        "  reee_se2 = sorted(reee2)\n",
        "  reee_se2.reverse()\n",
        "  for i in reee2:\n",
        "    ppp_ind2.append(reee_se2.index(i)+1)\n",
        "\n",
        "  aaaa=[]\n",
        "  for i in range(len(ppp_ind)):\n",
        "    if ppp_ind[i] <= 3:\n",
        "      aaaa.append(i)\n",
        "\n",
        "  bbbb=[]\n",
        "  for i in range(len(ppp_ind1)):\n",
        "    if ppp_ind1[i] <= 3:\n",
        "      bbbb.append(i)\n",
        "\n",
        "  cccc=[]\n",
        "  for i in range(len(ppp_ind2)):\n",
        "    if ppp_ind2[i] <= 3:\n",
        "      cccc.append(i)\n",
        "\n",
        "  #준비운동\n",
        "  pre_result1 = df_aar2.columns[aaaa[0]]\n",
        "  pre_result2 = df_aar2.columns[aaaa[1]]\n",
        "  pre_result3 = df_aar2.columns[aaaa[2]]\n",
        "\n",
        "\n",
        "  #본운동\n",
        "  main_result1 = df_ar2.columns[bbbb[0]]\n",
        "  main_result2 = df_ar2.columns[bbbb[1]]\n",
        "  main_result3 = df_ar2.columns[bbbb[2]]\n",
        "\n",
        "\n",
        "  #마무리운동\n",
        "  last_result1 = df_aaar2.columns[cccc[0]]\n",
        "  last_result2 = df_aaar2.columns[cccc[1]]\n",
        "  last_result3 = df_aaar2.columns[cccc[2]]\n"
      ],
      "execution_count": null,
      "outputs": []
    },
    {
      "cell_type": "code",
      "metadata": {
        "id": "Ma6jomo4rYtg"
      },
      "source": [
        "pre_result = [pre_result1,pre_result2,pre_result3]\n",
        "\n",
        "main_result = [main_result1,main_result2,main_result3]\n",
        "\n",
        "last_result = [last_result1,last_result2,last_result3]"
      ],
      "execution_count": null,
      "outputs": []
    },
    {
      "cell_type": "markdown",
      "metadata": {
        "id": "EYzNdOGJrj14"
      },
      "source": [
        "예측값"
      ]
    },
    {
      "cell_type": "code",
      "metadata": {
        "colab": {
          "base_uri": "https://localhost:8080/"
        },
        "id": "uOlPxgQTral5",
        "outputId": "064557f5-c24a-4feb-bbbf-cd0656720693"
      },
      "source": [
        "print(pre_result)\n",
        "print(main_result)\n",
        "print(last_result)\n"
      ],
      "execution_count": null,
      "outputs": [
        {
          "output_type": "stream",
          "name": "stdout",
          "text": [
            "['고정식 트레드밀에서 걷기', '골반 스트레칭', '양팔 벌려 전신 비틀기']\n",
            "['가슴 스트레칭', '등 스트레칭', '무릎굽혀 원 그리기']\n",
            "['양발 나란히 서기', '의자 이용 중심 잡기 루틴 운동', '하지 루틴 스트레칭1']\n"
          ]
        }
      ]
    },
    {
      "cell_type": "code",
      "metadata": {
        "id": "e484r9rurgj-"
      },
      "source": [
        ""
      ],
      "execution_count": null,
      "outputs": []
    }
  ]
}
